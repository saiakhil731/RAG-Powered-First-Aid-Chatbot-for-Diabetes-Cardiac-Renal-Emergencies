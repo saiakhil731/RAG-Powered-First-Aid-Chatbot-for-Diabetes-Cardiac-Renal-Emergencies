{
 "cells": [
  {
   "cell_type": "code",
   "execution_count": null,
   "id": "e8503969-78f1-47bf-b5b5-7d789285cb0e",
   "metadata": {},
   "outputs": [],
   "source": [
    "!pip install faiss-cpu"
   ]
  },
  {
   "cell_type": "code",
   "execution_count": null,
   "id": "413a4d68-5f34-434b-ad75-55c45e952ab9",
   "metadata": {},
   "outputs": [],
   "source": [
    "!pip install sentence-transformers"
   ]
  },
  {
   "cell_type": "code",
   "execution_count": 9,
   "id": "54b37b6b-550c-4a11-9908-e9941055c301",
   "metadata": {},
   "outputs": [
    {
     "name": "stdout",
     "output_type": "stream",
     "text": [
      "Requirement already satisfied: pytest in c:\\users\\keesa\\anaconda3\\lib\\site-packages (7.4.4)\n",
      "Requirement already satisfied: iniconfig in c:\\users\\keesa\\anaconda3\\lib\\site-packages (from pytest) (1.1.1)\n",
      "Requirement already satisfied: packaging in c:\\users\\keesa\\anaconda3\\lib\\site-packages (from pytest) (24.1)\n",
      "Requirement already satisfied: pluggy<2.0,>=0.12 in c:\\users\\keesa\\anaconda3\\lib\\site-packages (from pytest) (1.0.0)\n",
      "Requirement already satisfied: colorama in c:\\users\\keesa\\anaconda3\\lib\\site-packages (from pytest) (0.4.6)\n",
      "Note: you may need to restart the kernel to use updated packages.\n"
     ]
    }
   ],
   "source": [
    "pip install pytest"
   ]
  },
  {
   "cell_type": "code",
   "execution_count": 2,
   "id": "b9d682ae-366a-44b8-ac3d-b0594e032886",
   "metadata": {},
   "outputs": [
    {
     "data": {
      "application/vnd.jupyter.widget-view+json": {
       "model_id": "d6535a9e3e1b41b5b1a6fd3e15c8fd76",
       "version_major": 2,
       "version_minor": 0
      },
      "text/plain": [
       "Batches:   0%|          | 0/2 [00:00<?, ?it/s]"
      ]
     },
     "metadata": {},
     "output_type": "display_data"
    },
    {
     "name": "stdin",
     "output_type": "stream",
     "text": [
      "Enter your symptoms:  I'm sweating, shaky, and my glucometer reads 55 mg/dL—what should I do right now?\n"
     ]
    },
    {
     "name": "stdout",
     "output_type": "stream",
     "text": [
      "\n",
      "--- Response ---\n",
      "\n",
      "⚠️ This information is for educational purposes only and is not a substitute for professional medical advice\n",
      "Likely Condition: Hypoglycemia First-Aid Steps: - For severe hypoglycaemia with unconsciousness, give intramuscular glucagon 1 mg if available\n",
      "- Hypoglycaemia is defined as blood glucose < 70 mg/dL and needs rapid glucose intake\n",
      "- First-aid for mild hypoglycaemia: give 15 g of fast-acting carbohydrate such as glucose tablets\n",
      "- Hyperkalaemia (> 5.5 mmol/L) in CKD may require calcium gluconate and insulin–glucose infusion\n",
      "- A fasting plasma glucose ≥ 126 mg/dL on two occasions confirms diabetes\n",
      "Key Medicines: glucose, glucagon, insulin...\n"
     ]
    }
   ],
   "source": [
    "import sys\n",
    "sys.path.append(\"./modules\")\n",
    "from embedding_loader import build_index\n",
    "\n",
    "build_index(\"data/medical_snippets.csv\")\n",
    "\n",
    "from local_retriever import LocalRetriever\n",
    "from web_retriever import WebRetriever\n",
    "from triage_module import TriageClassifier\n",
    "from fusion_ranker import FusionRanker\n",
    "from generator import AnswerGenerator\n",
    "\n",
    "#Setup\n",
    "triage = TriageClassifier()\n",
    "local = LocalRetriever()\n",
    "web = WebRetriever(api_key=\"d592952404215ede63067becb052ef3efdd27310\")\n",
    "ranker = FusionRanker()\n",
    "generator = AnswerGenerator()\n",
    "\n",
    "def print_response_clean(query, generator, triage, local, web, ranker):\n",
    "    condition, _ = triage.classify(query)\n",
    "    local_docs = local.retrieve(query)\n",
    "    web_docs = web.search(query)\n",
    "    fused_docs = ranker.fuse(query, local_docs, web_docs)\n",
    "    \n",
    "    response = generator.generate(query, condition, fused_docs, web=None)\n",
    "\n",
    "    # Remove disclaimer manually (if it exists)\n",
    "    if response.startswith(\"⚠️\"):\n",
    "        response = response.split(\"\\n\", 1)[-1]  # remove first line only\n",
    "\n",
    "    # Force split using periods and line breaks\n",
    "    response_lines = response.replace(\"**\", \"\").replace(\"\\n\", \". \").split(\". \")\n",
    "    \n",
    "    print(\"\\n--- Response ---\\n\")\n",
    "    for line in response_lines:\n",
    "        line = line.strip()\n",
    "        if line and not line.startswith(\"Citations:\"):\n",
    "            print(line)\n",
    "            \n",
    "query = input(\"Enter your symptoms: \")\n",
    "print_response_clean(query, generator, triage, local, web, ranker)\n",
    "\n",
    "    \n",
    "  "
   ]
  },
  {
   "cell_type": "code",
   "execution_count": null,
   "id": "b9387655-a2e8-467f-a550-a8a72c70ee60",
   "metadata": {},
   "outputs": [],
   "source": []
  }
 ],
 "metadata": {
  "kernelspec": {
   "display_name": "Python [conda env:base] *",
   "language": "python",
   "name": "conda-base-py"
  },
  "language_info": {
   "codemirror_mode": {
    "name": "ipython",
    "version": 3
   },
   "file_extension": ".py",
   "mimetype": "text/x-python",
   "name": "python",
   "nbconvert_exporter": "python",
   "pygments_lexer": "ipython3",
   "version": "3.12.7"
  }
 },
 "nbformat": 4,
 "nbformat_minor": 5
}
